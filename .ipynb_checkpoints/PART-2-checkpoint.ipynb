{
 "cells": [
  {
   "cell_type": "code",
   "execution_count": 1,
   "metadata": {},
   "outputs": [],
   "source": [
    "import sqlite3"
   ]
  },
  {
   "cell_type": "code",
   "execution_count": 2,
   "metadata": {},
   "outputs": [],
   "source": [
    "table = \"\"\" CREATE TABLE Chauffeurs\n",
    "(\n",
    "    License_Number NUMBER(10),\n",
    "    Renewed DATE,\n",
    "    Status VARCHAR(20),\n",
    "    Status_Date DATE,\n",
    "    Driver_Type VARCHAR(20),\n",
    "    License_Type VARCHAR(20),\n",
    "    original_issue_date Date,\n",
    "    Name VARCHAR(50),\n",
    "    SEX VARCHAR(5),\n",
    "    Chaeffeur_city VARCHAR(20),\n",
    "    Chaeffeur_state VARCHAR(20),\n",
    "    Record_number VARCHAR(20) NOT NULL UNIQUE,\n",
    "    CONSTRAINT RecordPK,\n",
    "    PRIMARY KEY(Record_number)\n",
    "    );\n",
    "\"\"\""
   ]
  },
  {
   "cell_type": "code",
   "execution_count": 3,
   "metadata": {},
   "outputs": [
    {
     "data": {
      "text/plain": [
       "<sqlite3.Cursor at 0x1c05bec5b90>"
      ]
     },
     "execution_count": 3,
     "metadata": {},
     "output_type": "execute_result"
    }
   ],
   "source": [
    "conn = sqlite3.connect('dsc450.db')#connecting to database\n",
    "cursor = conn.cursor()\n",
    "cursor.execute('DROP TABLE IF EXISTS Chauffeurs')\n",
    "cursor.execute(table)"
   ]
  },
  {
   "cell_type": "code",
   "execution_count": 4,
   "metadata": {},
   "outputs": [],
   "source": [
    "ins = \"INSERT OR IGNORE INTO Chauffeurs VALUES (?,?,?,?,?,?,?,?,?,?,?,?);\""
   ]
  },
  {
   "cell_type": "code",
   "execution_count": 5,
   "metadata": {},
   "outputs": [],
   "source": [
    "fd = open(\"../HW5/Public_Chauffeurs_Short_hw3.csv\",\"r\")# open file"
   ]
  },
  {
   "cell_type": "code",
   "execution_count": 11,
   "metadata": {},
   "outputs": [],
   "source": [
    "import csv #import csv\n",
    "reader = csv.reader(fd)\n",
    "next(reader)#skip the header"
   ]
  },
  {
   "cell_type": "code",
   "execution_count": 8,
   "metadata": {},
   "outputs": [],
   "source": [
    "for row in reader:\n",
    "    cursor.execute(ins,row)\n",
    "output = cursor.execute(\"SELECT * FROM Chauffeurs LIMIT 5; \")\n",
    "result = output.fetchall()"
   ]
  },
  {
   "cell_type": "code",
   "execution_count": 10,
   "metadata": {},
   "outputs": [
    {
     "name": "stdout",
     "output_type": "stream",
     "text": [
      "SELECT * FROM Chauffeurs LIMIT 5; \n",
      "(103344, 'NULL', 'DENIED', '03/21/2014', 'Livery Only', 'NULL', 'NULL', 'ABDALLAH ATIEH', 'MALE', 'TINLEY PARK', 'IL', '14-00367283')\n",
      "\n",
      "(101721, 'NULL', 'INACTIVE', '10/02/2014', 'Taxi', 'NULL', 'NULL', 'ABDIRISAK I ABDI', 'MALE', 'CHICAGO', 'IL', '14-01682108')\n",
      "\n",
      "(101711, 'NULL', 'INACTIVE', '10/02/2014', 'Taxi', 'NULL', 'NULL', 'ZHENGQIANGU FU', 'MALE', 'CHICAGO', 'IL', '14-01682846')\n",
      "\n",
      "(101710, 'NULL', 'INACTIVE', '10/02/2014', 'Taxi', 'NULL', 'NULL', 'ROBERT LEE ROSS', 'MALE', 'CHICAGO', 'IL', '14-01682727')\n",
      "\n",
      "(101709, 'NULL', 'INACTIVE', '10/02/2014', 'Taxi', 'NULL', 'NULL', 'ABDIRAHIM ABDULLAHI HAJI', 'MALE', 'CHICAGO', 'IL', '14-01682591')\n",
      "\n"
     ]
    }
   ],
   "source": [
    "print(\"SELECT * FROM Chauffeurs LIMIT 5; \")\n",
    "for r in result:\n",
    "    print(str(r)+'\\n')"
   ]
  },
  {
   "cell_type": "code",
   "execution_count": 12,
   "metadata": {},
   "outputs": [],
   "source": [
    "conn.commit()\n",
    "conn.close()"
   ]
  },
  {
   "cell_type": "code",
   "execution_count": 45,
   "metadata": {},
   "outputs": [],
   "source": [
    "Student_db = { \n",
    "    \"student\": [ \n",
    "    { \"sid\": 1, \n",
    "    \"fname\": \"Jack\", \n",
    "    \"degree\": \"grad\"}, \n",
    "    \n",
    "    { \"sid\": 2, \n",
    "    \"fname\": \"Jane\", \n",
    "    \"degree\": \"Ugrad\"}, \n",
    "    \n",
    "    { \"sid\": 3, \n",
    "    \"fname\": \"Karen\", \n",
    "    \"degree\": \"grad\"}, \n",
    "    \n",
    "    { \"sid\": 4, \n",
    "    \"fname\": \"Jack\", \n",
    "    \"degree\": \"Ugrad\"}\n",
    "],\n",
    "     \n",
    "    \"Course\": [ \n",
    "    { \"cid\": 100, \n",
    "    \"cname\": \"Intro to data\", \n",
    "    \"credits\": 4},\n",
    "    \n",
    "    { \"cid\": 200, \n",
    "    \"cname\": \"research col\", \n",
    "    \"credits\": 2}\n",
    "],\n",
    "    \n",
    "    \"Enrollment\": [ \n",
    "    { \"sid\": 1, \n",
    "    \"cid\": 100},\n",
    "    \n",
    "    { \"sid\": 1, \n",
    "    \"cid\": 200},\n",
    "    \n",
    "    { \"sid\": 2, \n",
    "    \"cid\": 300},\n",
    "    \n",
    "    { \"sid\": 4, \n",
    "    \"cid\": 200}\n",
    "    ]\n",
    "}"
   ]
  },
  {
   "cell_type": "code",
   "execution_count": 25,
   "metadata": {},
   "outputs": [
    {
     "name": "stdout",
     "output_type": "stream",
     "text": [
      "100\n",
      "200\n",
      "100\n",
      "200\n"
     ]
    }
   ],
   "source": [
    "for stu in Student_db:\n",
    "    if stu[]"
   ]
  },
  {
   "cell_type": "code",
   "execution_count": 71,
   "metadata": {},
   "outputs": [
    {
     "name": "stdout",
     "output_type": "stream",
     "text": [
      "4\n",
      "4\n",
      "4\n",
      "4\n",
      "4\n",
      "4\n",
      "4\n",
      "4\n"
     ]
    }
   ],
   "source": [
    "for stu in Student_db['student']:\n",
    "    for num in Student_db['Enrollment']:\n",
    "        if stu['fname']=='Jack':\n",
    "            print(stu['sid'])"
   ]
  },
  {
   "cell_type": "code",
   "execution_count": 73,
   "metadata": {},
   "outputs": [
    {
     "ename": "TypeError",
     "evalue": "string indices must be integers",
     "output_type": "error",
     "traceback": [
      "\u001b[1;31m---------------------------------------------------------------------------\u001b[0m",
      "\u001b[1;31mTypeError\u001b[0m                                 Traceback (most recent call last)",
      "\u001b[1;32m<ipython-input-73-bb4feddc5385>\u001b[0m in \u001b[0;36m<module>\u001b[1;34m\u001b[0m\n\u001b[0;32m      1\u001b[0m \u001b[1;32mfor\u001b[0m \u001b[0mstu\u001b[0m \u001b[1;32min\u001b[0m \u001b[0mStudent_db\u001b[0m\u001b[1;33m:\u001b[0m\u001b[1;33m\u001b[0m\u001b[1;33m\u001b[0m\u001b[0m\n\u001b[1;32m----> 2\u001b[1;33m     \u001b[1;32mif\u001b[0m \u001b[0mstu\u001b[0m\u001b[1;33m[\u001b[0m\u001b[1;36m0\u001b[0m\u001b[1;33m]\u001b[0m\u001b[1;33m[\u001b[0m\u001b[1;34m'fname'\u001b[0m\u001b[1;33m]\u001b[0m\u001b[1;33m==\u001b[0m\u001b[1;34m'Jack'\u001b[0m\u001b[1;33m:\u001b[0m\u001b[1;33m\u001b[0m\u001b[1;33m\u001b[0m\u001b[0m\n\u001b[0m\u001b[0;32m      3\u001b[0m         \u001b[0mprint\u001b[0m\u001b[1;33m(\u001b[0m\u001b[0mstu\u001b[0m\u001b[1;33m[\u001b[0m\u001b[1;34m'sid'\u001b[0m\u001b[1;33m]\u001b[0m\u001b[1;33m)\u001b[0m\u001b[1;33m\u001b[0m\u001b[1;33m\u001b[0m\u001b[0m\n",
      "\u001b[1;31mTypeError\u001b[0m: string indices must be integers"
     ]
    }
   ],
   "source": [
    "for stu in Student_db:\n",
    "    if stu[0]['fname']=='Jack':\n",
    "        print(stu['sid'])"
   ]
  },
  {
   "cell_type": "code",
   "execution_count": 59,
   "metadata": {},
   "outputs": [
    {
     "data": {
      "text/plain": [
       "[4, 4]"
      ]
     },
     "execution_count": 59,
     "metadata": {},
     "output_type": "execute_result"
    }
   ],
   "source": [
    "lst"
   ]
  },
  {
   "cell_type": "code",
   "execution_count": null,
   "metadata": {},
   "outputs": [],
   "source": []
  }
 ],
 "metadata": {
  "kernelspec": {
   "display_name": "Python 3.7.3 64-bit ('14023': virtualenv)",
   "language": "python",
   "name": "python37364bit14023virtualenv43d760947b1c41cea019d510c4f98b52"
  },
  "language_info": {
   "codemirror_mode": {
    "name": "ipython",
    "version": 3
   },
   "file_extension": ".py",
   "mimetype": "text/x-python",
   "name": "python",
   "nbconvert_exporter": "python",
   "pygments_lexer": "ipython3",
   "version": "3.7.3"
  }
 },
 "nbformat": 4,
 "nbformat_minor": 4
}
