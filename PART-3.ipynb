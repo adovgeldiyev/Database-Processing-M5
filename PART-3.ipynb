{
 "cells": [
  {
   "cell_type": "code",
   "execution_count": 1,
   "metadata": {},
   "outputs": [],
   "source": [
    "import sqlite3\n",
    "import json"
   ]
  },
  {
   "cell_type": "code",
   "execution_count": 2,
   "metadata": {},
   "outputs": [],
   "source": [
    "table = \"\"\" CREATE TABLE Tweets\n",
    "(\n",
    "    created_at DATE,\n",
    "    id_str NUMBER(50),\n",
    "    text VARCHAR(300),\n",
    "    source VARCHAR(200),\n",
    "    in_reply_to_user_id VARCHAR(50),\n",
    "    in_reply_to_screen_name VARCHAR(50),\n",
    "    in_reply_to_status_id VARCHAR(50),\n",
    "    retweet_count NUMBER(30),\n",
    "    contributors VARCHAR(50),\n",
    "    CONSTRAINT TweetPK\n",
    "    PRIMARY KEY(id_str)\n",
    ");\n",
    "\"\"\""
   ]
  },
  {
   "cell_type": "code",
   "execution_count": 3,
   "metadata": {},
   "outputs": [
    {
     "data": {
      "text/plain": [
       "<sqlite3.Cursor at 0x1c095ae5c70>"
      ]
     },
     "execution_count": 3,
     "metadata": {},
     "output_type": "execute_result"
    }
   ],
   "source": [
    "conn = sqlite3.connect('dsc450_part3.db')#connecting to database\n",
    "cursor = conn.cursor()\n",
    "cursor.execute('DROP TABLE IF EXISTS Tweets')\n",
    "cursor.execute(table)"
   ]
  },
  {
   "cell_type": "code",
   "execution_count": 4,
   "metadata": {},
   "outputs": [],
   "source": [
    "fd=open(\"../HW5/Assignment4.txt\",\"r\", encoding=\"utf8\")\n",
    "reader = fd.readline().split('EndOfTweet')"
   ]
  },
  {
   "cell_type": "code",
   "execution_count": 5,
   "metadata": {},
   "outputs": [],
   "source": [
    "ins = \"INSERT OR IGNORE INTO Tweets VALUES (?,?,?,?,?,?,?,?,?);\"\n",
    "fd.close()"
   ]
  },
  {
   "cell_type": "code",
   "execution_count": 6,
   "metadata": {},
   "outputs": [],
   "source": [
    "for row in reader: # loading json objects, unicode to avoid syntax errors\n",
    "    values = json.loads(row)\n",
    "    value = (values.get(u'created_at'),\n",
    "            values.get(u'id_str'),\n",
    "            values.get(u'text'),\n",
    "            values.get(u'source'),\n",
    "            values.get(u'in_reply_to_user_id'),\n",
    "            values.get(u'in_reply_to_screen_name'),\n",
    "            values.get(u'in_reply_to_status_id'),\n",
    "            values.get(u'retweet_count'),\n",
    "            values.get(u'contributors'))\n",
    "    cursor.execute(ins,value)"
   ]
  },
  {
   "cell_type": "code",
   "execution_count": 7,
   "metadata": {},
   "outputs": [],
   "source": [
    "result=cursor.execute(\"SELECT * FROM Tweets LIMIT 5; \").fetchall()"
   ]
  },
  {
   "cell_type": "code",
   "execution_count": 9,
   "metadata": {},
   "outputs": [
    {
     "name": "stdout",
     "output_type": "stream",
     "text": [
      "SELECT * FROM Tweets LIMIT 5; \n",
      "('Tue Nov 05 00:00:04 +0000 2013', 397513609711874048, 'JUST GOT HOME AND SAW WE BROKE THE VEVO RECORD! IF YOU HELPED I LOVE YOU', '<a href=\"http://twitter.com/download/iphone\" rel=\"nofollow\">Twitter for iPhone</a>', None, None, None, 0, None)\n",
      "\n",
      "('Tue Nov 05 00:00:04 +0000 2013', 397513609732845568, 'We are here to play tough cricket: Richardson http://t.co/qNFIdXma8h', '<a href=\"http://scoop.so\" rel=\"nofollow\">SCOOP Hot News India</a>', None, None, None, 0, None)\n",
      "\n",
      "('Tue Nov 05 00:00:04 +0000 2013', 397513609732816896, 'I really love kids, always have always will.', '<a href=\"http://twitter.com/download/iphone\" rel=\"nofollow\">Twitter for iPhone</a>', None, None, None, 0, None)\n",
      "\n",
      "('Tue Nov 05 00:00:04 +0000 2013', 397513609728651265, 'RT @ertiaraa: RT @MeilindaMP: somebody that i used to know', '<a href=\"http://twitter.com/download/android\" rel=\"nofollow\">Twitter for Android</a>', None, None, None, 0, None)\n",
      "\n",
      "('Tue Nov 05 00:00:04 +0000 2013', 397513609741221888, \"RT @Harry_Styles: So that's it.\", '<a href=\"http://twitter.com\" rel=\"nofollow\">Twitter Web Client</a>', None, None, None, 0, None)\n",
      "\n"
     ]
    }
   ],
   "source": [
    "print(\"SELECT * FROM Tweets LIMIT 5; \")\n",
    "for r in result:\n",
    "    print(str(r)+'\\n')"
   ]
  },
  {
   "cell_type": "code",
   "execution_count": 10,
   "metadata": {},
   "outputs": [],
   "source": [
    "conn.commit()\n",
    "conn.close()"
   ]
  },
  {
   "cell_type": "code",
   "execution_count": null,
   "metadata": {},
   "outputs": [],
   "source": []
  }
 ],
 "metadata": {
  "kernelspec": {
   "display_name": "Python 3.7.3 64-bit ('14023': virtualenv)",
   "language": "python",
   "name": "python37364bit14023virtualenv43d760947b1c41cea019d510c4f98b52"
  },
  "language_info": {
   "codemirror_mode": {
    "name": "ipython",
    "version": 3
   },
   "file_extension": ".py",
   "mimetype": "text/x-python",
   "name": "python",
   "nbconvert_exporter": "python",
   "pygments_lexer": "ipython3",
   "version": "3.7.3"
  }
 },
 "nbformat": 4,
 "nbformat_minor": 4
}
